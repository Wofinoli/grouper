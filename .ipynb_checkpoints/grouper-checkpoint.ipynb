{
 "cells": [
  {
   "cell_type": "code",
   "execution_count": 181,
   "metadata": {},
   "outputs": [],
   "source": [
    "import pandas as pd\n",
    "import re\n",
    "import string\n",
    "\n",
    "WELLS = 384"
   ]
  },
  {
   "cell_type": "code",
   "execution_count": 80,
   "metadata": {},
   "outputs": [],
   "source": [
    "nav = pd.read_csv('Nav18_virtSSI_15.53.46 RF091120.csv',sep='\\t', index_col = 0)"
   ]
  },
  {
   "cell_type": "code",
   "execution_count": 119,
   "metadata": {},
   "outputs": [
    {
     "data": {
      "text/html": [
       "<div>\n",
       "<style scoped>\n",
       "    .dataframe tbody tr th:only-of-type {\n",
       "        vertical-align: middle;\n",
       "    }\n",
       "\n",
       "    .dataframe tbody tr th {\n",
       "        vertical-align: top;\n",
       "    }\n",
       "\n",
       "    .dataframe thead th {\n",
       "        text-align: right;\n",
       "    }\n",
       "</style>\n",
       "<table border=\"1\" class=\"dataframe\">\n",
       "  <thead>\n",
       "    <tr style=\"text-align: right;\">\n",
       "      <th></th>\n",
       "      <th>Unnamed: 1</th>\n",
       "      <th>Sweep 001</th>\n",
       "      <th>Sweep 001.1</th>\n",
       "      <th>Sweep 001.2</th>\n",
       "      <th>Sweep 001.3</th>\n",
       "      <th>Sweep 001.4</th>\n",
       "      <th>Sweep 001.5</th>\n",
       "      <th>Sweep 001.6</th>\n",
       "      <th>Sweep 001.7</th>\n",
       "      <th>Sweep 001.8</th>\n",
       "      <th>...</th>\n",
       "      <th>Sweep 010.8</th>\n",
       "      <th>Sweep 011</th>\n",
       "      <th>Sweep 011.1</th>\n",
       "      <th>Sweep 011.2</th>\n",
       "      <th>Sweep 011.3</th>\n",
       "      <th>Sweep 011.4</th>\n",
       "      <th>Sweep 011.5</th>\n",
       "      <th>Sweep 011.6</th>\n",
       "      <th>Sweep 011.7</th>\n",
       "      <th>Sweep 011.8</th>\n",
       "    </tr>\n",
       "    <tr>\n",
       "      <th>Sweep Results</th>\n",
       "      <th></th>\n",
       "      <th></th>\n",
       "      <th></th>\n",
       "      <th></th>\n",
       "      <th></th>\n",
       "      <th></th>\n",
       "      <th></th>\n",
       "      <th></th>\n",
       "      <th></th>\n",
       "      <th></th>\n",
       "      <th></th>\n",
       "      <th></th>\n",
       "      <th></th>\n",
       "      <th></th>\n",
       "      <th></th>\n",
       "      <th></th>\n",
       "      <th></th>\n",
       "      <th></th>\n",
       "      <th></th>\n",
       "      <th></th>\n",
       "      <th></th>\n",
       "    </tr>\n",
       "  </thead>\n",
       "  <tbody>\n",
       "    <tr>\n",
       "      <th>Parameter</th>\n",
       "      <td>Valid QC</td>\n",
       "      <td>Compound Name</td>\n",
       "      <td>Seal Resistance</td>\n",
       "      <td>Peak ctrl</td>\n",
       "      <td>Peak Act.</td>\n",
       "      <td>Inact.</td>\n",
       "      <td>Rel.Inact.</td>\n",
       "      <td>Capacitance</td>\n",
       "      <td>Sweep Voltage/Current</td>\n",
       "      <td>Sweep disregarded</td>\n",
       "      <td>...</td>\n",
       "      <td>Sweep disregarded</td>\n",
       "      <td>Compound Name</td>\n",
       "      <td>Seal Resistance</td>\n",
       "      <td>Peak ctrl</td>\n",
       "      <td>Peak Act.</td>\n",
       "      <td>Inact.</td>\n",
       "      <td>Rel.Inact.</td>\n",
       "      <td>Capacitance</td>\n",
       "      <td>Sweep Voltage/Current</td>\n",
       "      <td>Sweep disregarded</td>\n",
       "    </tr>\n",
       "    <tr>\n",
       "      <th>Time of Sweep</th>\n",
       "      <td>NaN</td>\n",
       "      <td>2.2980</td>\n",
       "      <td>2.2980</td>\n",
       "      <td>2.2980</td>\n",
       "      <td>2.2980</td>\n",
       "      <td>2.2980</td>\n",
       "      <td>2.2980</td>\n",
       "      <td>2.2980</td>\n",
       "      <td>2.2980</td>\n",
       "      <td>2.2980</td>\n",
       "      <td>...</td>\n",
       "      <td>93.5360</td>\n",
       "      <td>103.6790</td>\n",
       "      <td>103.6790</td>\n",
       "      <td>103.6790</td>\n",
       "      <td>103.6790</td>\n",
       "      <td>103.6790</td>\n",
       "      <td>103.6790</td>\n",
       "      <td>103.6790</td>\n",
       "      <td>103.6790</td>\n",
       "      <td>103.6790</td>\n",
       "    </tr>\n",
       "    <tr>\n",
       "      <th>A01</th>\n",
       "      <td>T</td>\n",
       "      <td>External</td>\n",
       "      <td>2.146136E+9</td>\n",
       "      <td>-2.730584E-11</td>\n",
       "      <td>-1.668690E-11</td>\n",
       "      <td>-6.371362E-11</td>\n",
       "      <td>2.333333E+0</td>\n",
       "      <td>4.877995E-12</td>\n",
       "      <td>-1.000000E-1</td>\n",
       "      <td>F</td>\n",
       "      <td>...</td>\n",
       "      <td>F</td>\n",
       "      <td>FullBlock</td>\n",
       "      <td>1.833930E+9</td>\n",
       "      <td>-4.095876E-11</td>\n",
       "      <td>1.061894E-11</td>\n",
       "      <td>8.191751E-11</td>\n",
       "      <td>-2.000000E+0</td>\n",
       "      <td>4.778761E-12</td>\n",
       "      <td>-2.000000E-2</td>\n",
       "      <td>F</td>\n",
       "    </tr>\n",
       "    <tr>\n",
       "      <th>B01</th>\n",
       "      <td>T</td>\n",
       "      <td>External</td>\n",
       "      <td>2.421880E+9</td>\n",
       "      <td>-2.093448E-10</td>\n",
       "      <td>-1.213593E-11</td>\n",
       "      <td>-2.275487E-10</td>\n",
       "      <td>1.086957E+0</td>\n",
       "      <td>1.452031E-11</td>\n",
       "      <td>-1.000000E-1</td>\n",
       "      <td>F</td>\n",
       "      <td>...</td>\n",
       "      <td>F</td>\n",
       "      <td>FullBlock</td>\n",
       "      <td>2.047544E+9</td>\n",
       "      <td>-1.683860E-10</td>\n",
       "      <td>-3.944177E-11</td>\n",
       "      <td>1.668690E-11</td>\n",
       "      <td>-9.909910E-2</td>\n",
       "      <td>1.457814E-11</td>\n",
       "      <td>-2.000000E-2</td>\n",
       "      <td>F</td>\n",
       "    </tr>\n",
       "    <tr>\n",
       "      <th>C01</th>\n",
       "      <td>T</td>\n",
       "      <td>External</td>\n",
       "      <td>5.993876E+8</td>\n",
       "      <td>-3.534589E-10</td>\n",
       "      <td>-1.213593E-11</td>\n",
       "      <td>-4.702672E-10</td>\n",
       "      <td>1.330472E+0</td>\n",
       "      <td>2.032459E-11</td>\n",
       "      <td>-1.000000E-1</td>\n",
       "      <td>F</td>\n",
       "      <td>...</td>\n",
       "      <td>F</td>\n",
       "      <td>FullBlock</td>\n",
       "      <td>4.638310E+8</td>\n",
       "      <td>-3.246361E-10</td>\n",
       "      <td>-2.336166E-10</td>\n",
       "      <td>2.730584E-11</td>\n",
       "      <td>-8.411215E-2</td>\n",
       "      <td>1.887939E-11</td>\n",
       "      <td>-2.000000E-2</td>\n",
       "      <td>F</td>\n",
       "    </tr>\n",
       "  </tbody>\n",
       "</table>\n",
       "<p>5 rows × 100 columns</p>\n",
       "</div>"
      ],
      "text/plain": [
       "               Unnamed: 1      Sweep 001      Sweep 001.1    Sweep 001.2  \\\n",
       "Sweep Results                                                              \n",
       "Parameter        Valid QC  Compound Name  Seal Resistance      Peak ctrl   \n",
       "Time of Sweep         NaN         2.2980           2.2980         2.2980   \n",
       "A01                     T       External      2.146136E+9  -2.730584E-11   \n",
       "B01                     T       External      2.421880E+9  -2.093448E-10   \n",
       "C01                     T       External      5.993876E+8  -3.534589E-10   \n",
       "\n",
       "                  Sweep 001.3    Sweep 001.4  Sweep 001.5   Sweep 001.6  \\\n",
       "Sweep Results                                                             \n",
       "Parameter           Peak Act.         Inact.   Rel.Inact.   Capacitance   \n",
       "Time of Sweep          2.2980         2.2980       2.2980        2.2980   \n",
       "A01             -1.668690E-11  -6.371362E-11  2.333333E+0  4.877995E-12   \n",
       "B01             -1.213593E-11  -2.275487E-10  1.086957E+0  1.452031E-11   \n",
       "C01             -1.213593E-11  -4.702672E-10  1.330472E+0  2.032459E-11   \n",
       "\n",
       "                          Sweep 001.7        Sweep 001.8  ...  \\\n",
       "Sweep Results                                             ...   \n",
       "Parameter       Sweep Voltage/Current  Sweep disregarded  ...   \n",
       "Time of Sweep                  2.2980             2.2980  ...   \n",
       "A01                      -1.000000E-1                  F  ...   \n",
       "B01                      -1.000000E-1                  F  ...   \n",
       "C01                      -1.000000E-1                  F  ...   \n",
       "\n",
       "                      Sweep 010.8      Sweep 011      Sweep 011.1  \\\n",
       "Sweep Results                                                       \n",
       "Parameter       Sweep disregarded  Compound Name  Seal Resistance   \n",
       "Time of Sweep             93.5360       103.6790         103.6790   \n",
       "A01                             F      FullBlock      1.833930E+9   \n",
       "B01                             F      FullBlock      2.047544E+9   \n",
       "C01                             F      FullBlock      4.638310E+8   \n",
       "\n",
       "                  Sweep 011.2    Sweep 011.3   Sweep 011.4   Sweep 011.5  \\\n",
       "Sweep Results                                                              \n",
       "Parameter           Peak ctrl      Peak Act.        Inact.    Rel.Inact.   \n",
       "Time of Sweep        103.6790       103.6790      103.6790      103.6790   \n",
       "A01             -4.095876E-11   1.061894E-11  8.191751E-11  -2.000000E+0   \n",
       "B01             -1.683860E-10  -3.944177E-11  1.668690E-11  -9.909910E-2   \n",
       "C01             -3.246361E-10  -2.336166E-10  2.730584E-11  -8.411215E-2   \n",
       "\n",
       "                 Sweep 011.6            Sweep 011.7        Sweep 011.8  \n",
       "Sweep Results                                                           \n",
       "Parameter        Capacitance  Sweep Voltage/Current  Sweep disregarded  \n",
       "Time of Sweep       103.6790               103.6790           103.6790  \n",
       "A01             4.778761E-12           -2.000000E-2                  F  \n",
       "B01             1.457814E-11           -2.000000E-2                  F  \n",
       "C01             1.887939E-11           -2.000000E-2                  F  \n",
       "\n",
       "[5 rows x 100 columns]"
      ]
     },
     "execution_count": 119,
     "metadata": {},
     "output_type": "execute_result"
    }
   ],
   "source": [
    "nav.head()"
   ]
  },
  {
   "cell_type": "code",
   "execution_count": 82,
   "metadata": {},
   "outputs": [],
   "source": [
    "index = nav.index\n",
    "columns = nav.columns"
   ]
  },
  {
   "cell_type": "code",
   "execution_count": 128,
   "metadata": {},
   "outputs": [],
   "source": [
    "num_sweeps = 1\n",
    "num_param = 0\n",
    "bool_mask = []\n",
    "\n",
    "temp = 0\n",
    "for column in columns:\n",
    "    if re.match(\"Sweep \\d{3}\\.\\d\", column):\n",
    "        bool_mask.append(True)\n",
    "        param = int(column[-1])\n",
    "        if param > temp:\n",
    "            temp = param\n",
    "            if num_sweeps == 1:\n",
    "                num_param += 1\n",
    "        else:\n",
    "            temp = 0\n",
    "            num_sweeps += 1\n",
    "    else:\n",
    "        bool_mask.append(False)\n",
    "        "
   ]
  },
  {
   "cell_type": "code",
   "execution_count": 95,
   "metadata": {},
   "outputs": [
    {
     "data": {
      "text/plain": [
       "(8, 11)"
      ]
     },
     "execution_count": 95,
     "metadata": {},
     "output_type": "execute_result"
    }
   ],
   "source": [
    "num_param,num_sweeps"
   ]
  },
  {
   "cell_type": "code",
   "execution_count": 101,
   "metadata": {},
   "outputs": [
    {
     "data": {
      "text/plain": [
       "'Sweep 001.1'"
      ]
     },
     "execution_count": 101,
     "metadata": {},
     "output_type": "execute_result"
    }
   ],
   "source": [
    "index_first_param = 2\n",
    "columns[index_first_param]"
   ]
  },
  {
   "cell_type": "code",
   "execution_count": 134,
   "metadata": {},
   "outputs": [],
   "source": [
    "rel_data = nav.loc['A01':, columns[bool_mask]]"
   ]
  },
  {
   "cell_type": "code",
   "execution_count": 198,
   "metadata": {},
   "outputs": [],
   "source": [
    "plate_cols = 48\n",
    "plate_rows = 8\n",
    "row_names = list(string.ascii_uppercase[:plate_rows])"
   ]
  },
  {
   "cell_type": "code",
   "execution_count": 199,
   "metadata": {},
   "outputs": [
    {
     "data": {
      "text/plain": [
       "Sweep Results\n",
       "A01    2.146136E+9\n",
       "B01    2.421880E+9\n",
       "C01    5.993876E+8\n",
       "D01    1.356599E+8\n",
       "E01    1.993770E+9\n",
       "F01    1.737791E+7\n",
       "G01    7.199638E+8\n",
       "H01    2.308576E+9\n",
       "I01    2.245908E+9\n",
       "J01    5.551155E+9\n",
       "K01    2.745246E+9\n",
       "L01    1.621122E+9\n",
       "M01    1.851625E+9\n",
       "N01    1.372896E+9\n",
       "O01    6.587956E+6\n",
       "P01    1.421630E+9\n",
       "A02    6.989137E+8\n",
       "B02    2.258020E+9\n",
       "C02    5.322352E+8\n",
       "D02    7.023243E+8\n",
       "Name: Sweep 001.1, dtype: object"
      ]
     },
     "execution_count": 199,
     "metadata": {},
     "output_type": "execute_result"
    }
   ],
   "source": [
    "rel_data.iloc[:,0].head(20)"
   ]
  },
  {
   "cell_type": "code",
   "execution_count": 204,
   "metadata": {},
   "outputs": [],
   "source": [
    "clean = pd.DataFrame(data = rel_data.iloc[:,0].to_numpy().reshape(plate_rows, plate_cols), index=row_names, columns=range(1,plate_cols+1))"
   ]
  },
  {
   "cell_type": "code",
   "execution_count": 206,
   "metadata": {},
   "outputs": [],
   "source": [
    "clean.to_csv('clean.csv')"
   ]
  },
  {
   "cell_type": "code",
   "execution_count": null,
   "metadata": {},
   "outputs": [],
   "source": []
  }
 ],
 "metadata": {
  "kernelspec": {
   "display_name": "Python 3",
   "language": "python",
   "name": "python3"
  },
  "language_info": {
   "codemirror_mode": {
    "name": "ipython",
    "version": 3
   },
   "file_extension": ".py",
   "mimetype": "text/x-python",
   "name": "python",
   "nbconvert_exporter": "python",
   "pygments_lexer": "ipython3",
   "version": "3.8.3"
  }
 },
 "nbformat": 4,
 "nbformat_minor": 4
}
